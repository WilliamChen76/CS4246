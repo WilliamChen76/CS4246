{
 "cells": [
  {
   "cell_type": "markdown",
   "metadata": {},
   "source": [
    "# Problem 2: Hierarchical Planning\n",
    "\n",
    "In *Problem 2*, wa are going to solve the elevator domain using hierarchical planning.\n",
    "\n",
    "## Setup\n",
    "\n",
    "We will use the `unified-planning` package to model the hierarchical planning and employ the `Aries` planner to solve our hierarchical model.\n",
    "\n",
    "Start by downloading the unified planning library and **the hierarchical planner** `Aries`:\n",
    "\n",
    "```\n",
    "pip install unified-planning\n",
    "pip install unified-planning[aries]\n",
    "pip install up-aries\n",
    "```\n",
    "\n",
    "An example to using hierarchical planning with `unified-planning` to solve the *Airport* problem can be found [here](https://unified-planning.readthedocs.io/en/latest/notebooks/07-hierarchical-planning.html#Case-study:-Logistics-problem-(IPC-1998))."
   ]
  },
  {
   "cell_type": "code",
   "execution_count": null,
   "metadata": {},
   "outputs": [],
   "source": [
    "import unified_planning as up\n",
    "from unified_planning.shortcuts import *\n",
    "from unified_planning.model.htn import *"
   ]
  },
  {
   "cell_type": "markdown",
   "metadata": {},
   "source": [
    "## Initialization\n",
    "\n",
    "For initialization, this problem differs from *Problem 1*. We set up the number of floors and the people in the planning problem as follows, where `FLOOR_LIST` represents the level for each person. In this case, multiple people can be on the same floor, unlike in *Problem 1*.\n"
   ]
  },
  {
   "cell_type": "code",
   "execution_count": null,
   "metadata": {},
   "outputs": [],
   "source": [
    "NUM_FLOOR = 3\n",
    "NUM_PEOPLE = 5\n",
    "FLOOR_LIST = [1,1,2,2,2]\n",
    "print('number of floors: '+str(NUM_FLOOR))\n",
    "print('number of people: '+str(NUM_PEOPLE))\n",
    "print('people are originally at floor: '+ str(FLOOR_LIST))"
   ]
  },
  {
   "cell_type": "markdown",
   "metadata": {},
   "source": [
    "## Problem setup\n",
    "\n",
    "We need to initialize a hierarchical planning problem using the `HierarchicalProblem` class, and later specify all its internal components.\n",
    "\n",
    "After the initialization, you can print a summary of the problem, which will not include any components yet."
   ]
  },
  {
   "cell_type": "code",
   "execution_count": null,
   "metadata": {},
   "outputs": [],
   "source": [
    "problem = HierarchicalProblem('ElevatorHTNProblem')\n",
    "print(problem)"
   ]
  },
  {
   "cell_type": "markdown",
   "metadata": {},
   "source": [
    "Next, we define the types of objects in the planning problem. In this case, we have four types of objects: `Loc`, which has two subtypes, `Floor` and `Elevator`; and `Person`. We then add these objects to the problem. After adding the objects, we can print the problem to see the changes.\n"
   ]
  },
  {
   "cell_type": "code",
   "execution_count": null,
   "metadata": {},
   "outputs": [],
   "source": [
    "Loc = UserType(\"Loc\")\n",
    "Floor = UserType('Floor', father=Loc)\n",
    "Elevator = UserType('Elevator', father=Loc)\n",
    "Person = UserType('Person')\n",
    "\n",
    "\n",
    "# Add objects (floors and people)\n",
    "floors = [Object(f'floor{i}', Floor) for i in range(NUM_FLOOR)]\n",
    "people = [Object(f'person{i}', Person) for i in range(NUM_PEOPLE)]\n",
    "elevator = [Object('elevator', Elevator)]\n",
    "problem.add_objects(floors + people + elevator)\n",
    "print(problem)"
   ]
  },
  {
   "cell_type": "markdown",
   "metadata": {},
   "source": [
    "Now the problem has types to represent a floor, person, elevator, and the location (of the person). In this step, we add `fluents` to describe the state of the world in the planning problem. There are three fluents we need to define:\n",
    "\n",
    "1. **at_person**: A person is at a given floor.\n",
    "2. **at_elevator**: The elevator is at a given floor.\n",
    "3. **elevator_door_open**: Indicates whether the elevator door is open or closed.\n",
    "\n",
    "Remember to add these fluents to the problem.\n"
   ]
  },
  {
   "cell_type": "code",
   "execution_count": null,
   "metadata": {},
   "outputs": [],
   "source": [
    "at_person = Fluent('at_person', Loc, person=Person)\n",
    "at_elevator = Fluent('at_elevator', Floor, elevator=Elevator)\n",
    "elevator_door_open = Fluent('elevator_door_open', BoolType(), elevator=Elevator)\n",
    "\n",
    "problem.add_fluent(at_person)\n",
    "problem.add_fluent(at_elevator)\n",
    "problem.add_fluent(elevator_door_open)\n",
    "print(problem)"
   ]
  },
  {
   "cell_type": "markdown",
   "metadata": {},
   "source": [
    "We can see that the fluents contain logical statements to represent the location of the people or the elevator and whether the elevator door is open. We then set the initial values for the logical statements we just created."
   ]
  },
  {
   "cell_type": "code",
   "execution_count": null,
   "metadata": {},
   "outputs": [],
   "source": [
    "for i in range(NUM_PEOPLE):\n",
    "    problem.set_initial_value(at_person(people[i]), floors[int(FLOOR_LIST[i])])\n",
    "\n",
    "problem.set_initial_value(at_elevator(elevator[0]), floors[0])\n",
    "problem.set_initial_value(elevator_door_open(elevator[0]), False)\n",
    "\n",
    "print(problem)"
   ]
  },
  {
   "cell_type": "markdown",
   "metadata": {},
   "source": [
    "## Task 1: Add Actions\n",
    "\n",
    "After adding the objects and fluents to the problem, we need to create actions. The actions **differ** from those in *Problem 1*; we have combined the original `move_up` and `move_down` actions into a single action, `move_elevator`, which takes two arguments: the start floor and the end floor.\n",
    "\n",
    "1. **move_elevator**: Moves the elevator from the start floor to the end floor if the elevator door is closed.\n",
    "2. **enter_elevator**: Moves a person into the elevator if the person is on the same floor as the elevator and the elevator door is open.\n",
    "3. **exit_elevator**:  Moves a person out of the elevator and onto the floor where the elevator is located if the elevator door is open.\n",
    "4. **open_door**: Opens the elevator door if possible.\n",
    "5. **close_door**: Closes the elevator door if possible.\n",
    "\n",
    "To indicate the precoditions and effects of the actions:\n",
    "1. Use `<action>.add_precondition()` to add the preconditions. [Check the documentation here](https://unified-planning.readthedocs.io/en/latest/api/model/InstantaneousAction.html#unified_planning.model.InstantaneousAction.add_precondition)\n",
    "2. Use `<action>.add_effect()` to add the effects. [Check the documation here](https://unified-planning.readthedocs.io/en/latest/api/model/InstantaneousAction.html#unified_planning.model.InstantaneousAction.add_effect)\n"
   ]
  },
  {
   "cell_type": "code",
   "execution_count": null,
   "metadata": {},
   "outputs": [],
   "source": [
    "move_elevator = InstantaneousAction('move_elevator', elevator = Elevator, start=Floor, end=Floor)\n",
    "\n",
    "# FILL IN HERE START\n",
    "# COPY-FLAG-1-START\n",
    "\n",
    "\n",
    "# COPY-FLAG-1-END\n",
    "# FILL IN HERE END\n",
    "\n",
    "print(move_elevator)"
   ]
  },
  {
   "cell_type": "code",
   "execution_count": null,
   "metadata": {},
   "outputs": [],
   "source": [
    "enter_elevator = InstantaneousAction('enter_elevator', elevator = Elevator, person=Person, floor = Floor)\n",
    "\n",
    "# FILL IN HERE START\n",
    "# COPY-FLAG-2-START\n",
    "\n",
    "\n",
    "# COPY-FLAG-2-END\n",
    "# FILL IN HERE END\n",
    "\n",
    "print(enter_elevator)\n",
    "\n",
    "exit_elevator = InstantaneousAction('exit_elevator', elevator = Elevator, person=Person, floor = Floor)\n",
    "\n",
    "# FILL IN HERE START\n",
    "# COPY-FLAG-3-START\n",
    "\n",
    "\n",
    "# COPY-FLAG-3-END\n",
    "# FILL IN HERE END\n",
    "\n",
    "print(exit_elevator)"
   ]
  },
  {
   "cell_type": "code",
   "execution_count": null,
   "metadata": {},
   "outputs": [],
   "source": [
    "open_door = InstantaneousAction('open_door', elevator = Elevator)\n",
    "\n",
    "# FILL IN HERE START\n",
    "# COPY-FLAG-4-START\n",
    "\n",
    "\n",
    "# COPY-FLAG-4-END\n",
    "# FILL IN HERE END\n",
    "\n",
    "print(open_door)\n",
    "\n",
    "close_door = InstantaneousAction('close_door', elevator = Elevator)\n",
    "\n",
    "# FILL IN HERE START\n",
    "# COPY-FLAG-5-START\n",
    "\n",
    "\n",
    "# COPY-FLAG-5-END\n",
    "# FILL IN HERE END\n",
    "\n",
    "print(close_door)"
   ]
  },
  {
   "cell_type": "markdown",
   "metadata": {},
   "source": [
    "After defining the actions, we can add them to the problem. "
   ]
  },
  {
   "cell_type": "code",
   "execution_count": null,
   "metadata": {},
   "outputs": [],
   "source": [
    "problem.add_action(move_elevator)\n",
    "problem.add_action(enter_elevator)\n",
    "problem.add_action(exit_elevator)\n",
    "problem.add_action(open_door)\n",
    "problem.add_action(close_door)"
   ]
  },
  {
   "cell_type": "markdown",
   "metadata": {},
   "source": [
    "\n",
    "Next, we add tasks and subtasks for the hierarchical planning problem. The goal task is to transport a person to the end floor. We separate the task into two levels:\n",
    "\n",
    "1. Check if the elevator needs to move and transport the person.\n",
    "2. If the person is already at the end floor, no operation is needed. If the person is not at the end floor, then we need to achieve a series of subtasks to transport the person from the start floor to the end floor.\n"
   ]
  },
  {
   "cell_type": "code",
   "execution_count": null,
   "metadata": {},
   "outputs": [],
   "source": [
    "def method_transport_person(transport_person):\n",
    "    method = Method('method_transport_person', elevator = Elevator, person=Person, original_floor = Floor, start_floor=Floor, end_floor=Floor)\n",
    "    method.set_task(transport_person, method.person, method.end_floor)\n",
    "    # Conditions for the method to be applicable\n",
    "    method.add_precondition(Equals(at_person(method.person), method.start_floor))\n",
    "    method.add_precondition(Equals(at_elevator(method.elevator), method.original_floor))\n",
    "    method.add_precondition(Not(Equals(at_person(method.person), method.end_floor)))\n",
    "    method.add_precondition(Not(Equals(at_elevator(method.elevator), method.start_floor)))\n",
    "    method.add_precondition(Not(elevator_door_open(method.elevator)))\n",
    "    # this method decomposed into a sequence of 8 subtasks \n",
    "    t1 = method.add_subtask(move_elevator, method.elevator, method.original_floor, method.start_floor)\n",
    "    t2 = method.add_subtask(open_door, method.elevator)\n",
    "    t3 = method.add_subtask(enter_elevator, method.elevator, method.person, method.start_floor)\n",
    "    t4 = method.add_subtask(close_door, method.elevator)\n",
    "    t5 = method.add_subtask(move_elevator, method.elevator, method.start_floor, method.end_floor)\n",
    "    t6 = method.add_subtask(open_door, method.elevator)\n",
    "    t7 = method.add_subtask(exit_elevator, method.elevator, method.person, method.end_floor)\n",
    "    t8 = method.add_subtask(close_door, method.elevator)\n",
    "    method.set_ordered(t1, t2, t3, t4, t5, t6, t7, t8)\n",
    "    # print(method)\n",
    "    \n",
    "    return method\n",
    "\n",
    "def method_transport_noop(transport_person):\n",
    "    method = Method('method_transport_noop', elevator = Elevator, person=Person, start_floor=Floor, end_floor=Floor)\n",
    "    \n",
    "    method.set_task(transport_person, method.person, method.end_floor)\n",
    "    # Conditions for the method to be applicable\n",
    "    method.add_precondition(Equals(at_person(method.person), method.start_floor))\n",
    "    method.add_precondition(Equals(at_person(method.person), method.end_floor))\n",
    "    # print(method)\n",
    "    return method"
   ]
  },
  {
   "cell_type": "code",
   "execution_count": null,
   "metadata": {},
   "outputs": [],
   "source": [
    "transport_person = problem.add_task('transport_person', person=Person, end_floor=Floor)\n",
    "\n",
    "problem.add_method(method_transport_person(transport_person))\n",
    "problem.add_method(method_transport_noop(transport_person))"
   ]
  },
  {
   "cell_type": "markdown",
   "metadata": {},
   "source": [
    "## Task 2: Defining the Goal\n",
    "\n",
    "The final goal is to transport all people to floor 0, which is the ground floor. Therefore, we add `transport_person()` for all given objects(person)."
   ]
  },
  {
   "cell_type": "code",
   "execution_count": null,
   "metadata": {},
   "outputs": [],
   "source": [
    "for p in people:\n",
    "    # FILL IN HERE START\n",
    "    # COPY-FLAG-6-START\n",
    "    \n",
    "    \n",
    "    # COPY-FLAG-6-END\n",
    "    # FILL IN HERE END"
   ]
  },
  {
   "cell_type": "markdown",
   "metadata": {},
   "source": [
    "## Solve the Problem\n",
    "\n",
    "After modeling the elevator domain with hierarchical planning, we can solve the problem by calling the `solve()` function in the `unified-planning` package. The function will return the plan if the problem is solvable.\n",
    "\n",
    "**Please note**: If a plan cannot be found, you should check your hierarchical planning model. A well-defined hierarchical planning model should always yield a plan.\n"
   ]
  },
  {
   "cell_type": "code",
   "execution_count": null,
   "metadata": {},
   "outputs": [],
   "source": [
    "def solve(pb: Problem, verbose=False):\n",
    "    result = OneshotPlanner(problem_kind=pb.kind).solve(pb)\n",
    "    if result.plan is not None:\n",
    "        print(\"Plan:\", repr(result.plan) if verbose else str(result.plan))\n",
    "    else:\n",
    "        print(result.status)\n",
    "\n",
    "solve(problem)"
   ]
  }
 ],
 "metadata": {
  "kernelspec": {
   "display_name": "Python 3 (ipykernel)",
   "language": "python",
   "name": "python3"
  },
  "language_info": {
   "codemirror_mode": {
    "name": "ipython",
    "version": 3
   },
   "file_extension": ".py",
   "mimetype": "text/x-python",
   "name": "python",
   "nbconvert_exporter": "python",
   "pygments_lexer": "ipython3",
   "version": "3.11.5"
  }
 },
 "nbformat": 4,
 "nbformat_minor": 4
}
